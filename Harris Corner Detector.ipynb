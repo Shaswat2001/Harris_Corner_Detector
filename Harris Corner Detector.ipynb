{
 "cells": [
  {
   "cell_type": "code",
   "execution_count": 1,
   "metadata": {},
   "outputs": [],
   "source": [
    "import numpy as np\n",
    "import cv2\n",
    "from PIL import Image,ImageDraw\n",
    "import math\n",
    "import copy"
   ]
  },
  {
   "cell_type": "code",
   "execution_count": 2,
   "metadata": {},
   "outputs": [],
   "source": [
    "sobel_X=np.array([[1,0,-1],[2,0,-2],[1,0,-1]])\n",
    "sobel_Y=np.array([[1,2,1],[0,0,0],[-1,-2,-1]])\n",
    "\n",
    "image=Image.open('Data/bicycle.bmp')\n",
    "img_arr=np.array(image)"
   ]
  },
  {
   "cell_type": "code",
   "execution_count": 3,
   "metadata": {},
   "outputs": [],
   "source": [
    "def rgb2gray(image):\n",
    "    gray=cv2.cvtColor(image,cv2.COLOR_BGR2GRAY)\n",
    "    return gray"
   ]
  },
  {
   "cell_type": "code",
   "execution_count": 4,
   "metadata": {},
   "outputs": [],
   "source": [
    "def display_image(arr,sigma):\n",
    "    \n",
    "    image_try=Image.fromarray(arr)\n",
    "    ImageDraw.Draw(image_try).text((0, 0),f'sigma = {sigma}',(0, 0, 0))\n",
    "    image_try.show()"
   ]
  },
  {
   "cell_type": "code",
   "execution_count": 5,
   "metadata": {},
   "outputs": [],
   "source": [
    "def gaussian_smoothing(sigma=11,mean=0,ksize=5):\n",
    "    \n",
    "    n=(ksize-1)/2\n",
    "    radius=int(sigma)\n",
    "    X=np.linspace(-radius,radius,2*radius+1)\n",
    "    Y=np.linspace(-radius,radius,2*radius+1)\n",
    "    [grid_X,grid_Y]=np.meshgrid(X,Y)\n",
    "    \n",
    "    #gaussian_filter=np.exp(-(grid_X**2+grid_Y**2)/(2*(sigma)**2))/(math.sqrt(2*math.pi)*sigma)\n",
    "    gaussian_filter=np.exp(-(grid_X**2+grid_Y**2)/(2*(sigma)**2))\n",
    "    gaussian_filter=gaussian_filter/np.sum(gaussian_filter)\n",
    "    \n",
    "    return gaussian_filter"
   ]
  },
  {
   "cell_type": "code",
   "execution_count": 6,
   "metadata": {},
   "outputs": [],
   "source": [
    "def add_padding(I,H):\n",
    "    \n",
    "    pad_R=int((H.shape[0]-1)/2)+(H.shape[0]+1)%2\n",
    "    pad_C=int((H.shape[1]-1)/2)+(H.shape[1]+1)%2\n",
    "\n",
    "    Z_R=np.zeros((pad_R,I.shape[1]))\n",
    "\n",
    "    if H.shape[0]%2==0:\n",
    "        Z_C=np.zeros((I.shape[0]+pad_R,pad_C))\n",
    "    else:\n",
    "        Z_C=np.zeros((I.shape[0]+2*pad_R,pad_C))\n",
    "\n",
    "    if H.shape[0]%2==0 and H.shape[1]%2==0:\n",
    "        I=np.append(Z_R,I,axis=0)\n",
    "        I=np.append(Z_C,I,axis=1)\n",
    "\n",
    "\n",
    "    elif H.shape[0]%2==0 and H.shape[1]%2==1:\n",
    "        I=np.append(Z_R,I,axis=0)\n",
    "        I=np.concatenate((Z_C,I,Z_C),axis=1)\n",
    "\n",
    "\n",
    "    elif H.shape[0]%2==1 and H.shape[1]%2==0:\n",
    "        I=np.concatenate((Z_R,I,Z_R),axis=0)\n",
    "        I=np.append(Z_C,I,axis=1)\n",
    "\n",
    "\n",
    "    else:\n",
    "        I=np.concatenate((Z_R,I,Z_R),axis=0)\n",
    "        I=np.concatenate((Z_C,I,Z_C),axis=1)\n",
    "    \n",
    "    return I"
   ]
  },
  {
   "cell_type": "code",
   "execution_count": 7,
   "metadata": {},
   "outputs": [],
   "source": [
    "def convolution(img,H):\n",
    "    \n",
    "    I_pad=add_padding(img,H)\n",
    "    \n",
    "    conv=np.zeros(img.shape)\n",
    "\n",
    "    for i in range(img.shape[0]):\n",
    "        for j in range(img.shape[1]):\n",
    "            window=I_pad[i:i+H.shape[0],j:j+H.shape[1]]\n",
    "            conv[i,j]=np.sum(window*H)\n",
    "    \n",
    "    return conv"
   ]
  },
  {
   "cell_type": "code",
   "execution_count": 8,
   "metadata": {},
   "outputs": [],
   "source": [
    "def harris_detector(I,alpha=0.04):\n",
    "    \n",
    "    I_gray=rgb2gray(I)\n",
    "\n",
    "    for sigm in [1,1.1,1.2,1.3,1.4,1.5,1.6,1.7,1.8,1.9,2]:\n",
    "        gaussian_filter=gaussian_smoothing(sigma=sigm)\n",
    "        Gaussian=convolution(I_gray,gaussian_filter)\n",
    "        #Gaussian=cv2.GaussianBlur(I_gray,(3,3),3)\n",
    "\n",
    "        grad_X=convolution(Gaussian,sobel_X)\n",
    "        grad_X=convolution(grad_X,gaussian_smoothing(sigma=sigm))\n",
    "        #grad_X=cv2.GaussianBlur(grad_X,(3,3),1.4)\n",
    "\n",
    "        grad_Y=convolution(Gaussian,sobel_Y)\n",
    "        grad_Y=convolution(grad_Y,gaussian_smoothing(sigma=sigm))\n",
    "        #grad_Y=cv2.GaussianBlur(grad_Y,(3,3),1.4)\n",
    "        grad_XX=np.square(grad_X)\n",
    "        grad_YY=np.square(grad_Y)\n",
    "        grad_XY=np.multiply(grad_X,grad_Y)\n",
    "\n",
    "        max_R=0\n",
    "        mat={}\n",
    "        for row in range(1,I.shape[0]-1):\n",
    "            for clm in range(1,I.shape[1]-1):\n",
    "\n",
    "                Window_XX=np.sum(grad_XX[row-1:row+2,clm-1:clm+2])\n",
    "                Window_XY=np.sum(grad_XY[row-1:row+2,clm-1:clm+2])\n",
    "                Window_YY=np.sum(grad_YY[row-1:row+2,clm-1:clm+2])\n",
    "\n",
    "                M=np.array([[Window_XX,Window_XY],[Window_XY,Window_YY]])\n",
    "\n",
    "                R=np.linalg.det(M)-alpha*(np.trace(M))**2\n",
    "\n",
    "                mat[(row,clm)]=R\n",
    "\n",
    "                if R>max_R:\n",
    "                    max_R=R\n",
    "\n",
    "        mat_copy=mat.copy()\n",
    "        print(max_R)\n",
    "        for k,v in mat_copy.items():\n",
    "\n",
    "            if not v>max_R*0.05:\n",
    "                del mat[k]\n",
    "\n",
    "        points=[]\n",
    "        for k in mat.keys():\n",
    "            max_R=0\n",
    "            for i in range(k[0]-1,k[0]+3):\n",
    "                for j in range(k[1]-1,k[1]+3):\n",
    "\n",
    "                    if (i,j) in mat.keys():\n",
    "\n",
    "                        if mat[(i,j)]>max_R:\n",
    "                            pt=(i,j)\n",
    "                            max_R=mat[(i,j)]\n",
    "            if pt not in points:                \n",
    "                points.append(pt)\n",
    "\n",
    "        for val in points:\n",
    "            I=cv2.circle(I,(val[1],val[0]),1,(255,0,0))\n",
    "\n",
    "    #     for val in mat.keys():\n",
    "    #         I=cv2.circle(I,(val[1],val[0]),1,(255,0,0))\n",
    "        display_image(I,sigm)\n",
    "    \n",
    "    return mat,grad_X,grad_Y"
   ]
  },
  {
   "cell_type": "code",
   "execution_count": 9,
   "metadata": {},
   "outputs": [
    {
     "name": "stdout",
     "output_type": "stream",
     "text": [
      "444824138657.9731\n",
      "408071812691.7141\n",
      "382518064563.4314\n",
      "363960337104.5098\n",
      "350014408591.33075\n",
      "339242039710.49927\n",
      "330731258262.12274\n",
      "323879510730.3629\n",
      "318274753903.7368\n",
      "313626897259.26984\n",
      "43446461252.418304\n"
     ]
    }
   ],
   "source": [
    "I,x,y=harris_detector(img_arr)"
   ]
  },
  {
   "cell_type": "code",
   "execution_count": null,
   "metadata": {},
   "outputs": [],
   "source": [
    "I_gray=rgb2gray(img_arr)\n",
    "gaussian_filter=gaussian_smoothing(sigma=1.4)\n",
    "#Gaussian=convolution(I_gray,gaussian_filter)\n",
    "Gaussian=cv2.GaussianBlur(I_gray,(3,3),3)\n",
    "\n",
    "grad_X=convolution(Gaussian,sobel_X)\n",
    "#grad_X=convolution(grad_X,gaussian_smoothing(sigma=1.4))\n",
    "grad_X=cv2.GaussianBlur(grad_X,(3,3),1.4)\n",
    "\n",
    "grad_Y=convolution(Gaussian,sobel_Y)\n",
    "#grad_Y=convolution(grad_Y,gaussian_smoothing(sigma=1.4))\n",
    "grad_Y=cv2.GaussianBlur(grad_Y,(3,3),1.4)\n",
    "grad_XX=np.square(grad_X)\n",
    "grad_YY=np.square(grad_Y)\n",
    "grad_XY=np.multiply(grad_X,grad_Y)"
   ]
  },
  {
   "cell_type": "code",
   "execution_count": null,
   "metadata": {},
   "outputs": [],
   "source": [
    "grad_Y"
   ]
  },
  {
   "cell_type": "code",
   "execution_count": null,
   "metadata": {},
   "outputs": [],
   "source": [
    "grad_Y=convolution(Gaussian,sobel_Y)\n",
    "convolution(grad_Y,gaussian_smoothing(sigma=1.4,ksize=3))"
   ]
  },
  {
   "cell_type": "code",
   "execution_count": null,
   "metadata": {},
   "outputs": [],
   "source": [
    "gaussian_smoothing(sigma=1.4,ksize=3)"
   ]
  },
  {
   "cell_type": "code",
   "execution_count": null,
   "metadata": {},
   "outputs": [],
   "source": [
    "gaussian_filter=gaussian_smoothing(sigma=1,ksize=3)\n",
    "Gaussian=convolution(I_gray,gaussian_filter)\n",
    "image_try=Image.fromarray(Gaussian)\n",
    "image_try.show()"
   ]
  },
  {
   "cell_type": "code",
   "execution_count": null,
   "metadata": {},
   "outputs": [],
   "source": []
  }
 ],
 "metadata": {
  "kernelspec": {
   "display_name": "Python 3",
   "language": "python",
   "name": "python3"
  },
  "language_info": {
   "codemirror_mode": {
    "name": "ipython",
    "version": 3
   },
   "file_extension": ".py",
   "mimetype": "text/x-python",
   "name": "python",
   "nbconvert_exporter": "python",
   "pygments_lexer": "ipython3",
   "version": "3.8.5"
  }
 },
 "nbformat": 4,
 "nbformat_minor": 4
}
