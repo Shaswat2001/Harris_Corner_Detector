{
 "cells": [
  {
   "cell_type": "code",
   "execution_count": 1,
   "metadata": {},
   "outputs": [],
   "source": [
    "import numpy as np\n",
    "import cv2\n",
    "from PIL import Image\n",
    "import math\n",
    "import copy"
   ]
  },
  {
   "cell_type": "code",
   "execution_count": 2,
   "metadata": {},
   "outputs": [],
   "source": [
    "sobel_X=np.array([[1,0,-1],[2,0,-2],[1,0,-1]])\n",
    "sobel_Y=np.array([[1,2,1],[0,0,0],[-1,-2,-1]])\n",
    "\n",
    "image=Image.open('bicycle.bmp')\n",
    "img_arr=np.array(image)"
   ]
  },
  {
   "cell_type": "code",
   "execution_count": 3,
   "metadata": {},
   "outputs": [],
   "source": [
    "def rgb2gray(image):\n",
    "    gray=cv2.cvtColor(image,cv2.COLOR_BGR2GRAY)\n",
    "    return gray"
   ]
  },
  {
   "cell_type": "code",
   "execution_count": 4,
   "metadata": {},
   "outputs": [],
   "source": [
    "def gaussian_smoothing(sigma=2,mean=0):\n",
    "    \n",
    "    X=np.linspace(-3*sigma,3*sigma,3*int(sigma)+1)\n",
    "    Y=np.linspace(-3*sigma,3*sigma,3*int(sigma)+1)\n",
    "    [grid_X,grid_Y]=np.meshgrid(X,Y)\n",
    "    \n",
    "    gaussian_filter=np.exp(-(grid_X**2+grid_Y**2)/(2*sigma**2))/(math.sqrt(2*sigma)*sigma)\n",
    "    \n",
    "    return gaussian_filter"
   ]
  },
  {
   "cell_type": "code",
   "execution_count": 5,
   "metadata": {},
   "outputs": [],
   "source": [
    "def convolution(I,H):\n",
    "    \n",
    "    H=np.rot90(np.rot90(H))\n",
    "    \n",
    "    if len(I.shape)==3:\n",
    "        I=rgb2gray(I)\n",
    "\n",
    "    (I_R,I_C)=I.shape\n",
    "    (H_R,H_C)=H.shape\n",
    "    \n",
    "    conv=np.zeros(I.shape)\n",
    "    \n",
    "    for i in range(int(H_R/2),I_R-int(H_R/2)):\n",
    "        for j in range(int(H_C/2),I_C-int(H_C/2)):\n",
    "            window=I[i-H_R//2:i+H_R//2+1,j-H_C//2:j+H_C//2+1]\n",
    "            conv[i,j]=np.sum(window*H)\n",
    "    \n",
    "    return conv\n",
    "        "
   ]
  },
  {
   "cell_type": "code",
   "execution_count": 6,
   "metadata": {},
   "outputs": [],
   "source": [
    "def harris_detector(I,alpha=0.04):\n",
    "    \n",
    "    I_gray=rgb2gray(I)\n",
    "    gaussian_filter=gaussian_smoothing()\n",
    "    \n",
    "    Gaussian=cv2.GaussianBlur(I,(3,3),3)\n",
    "    \n",
    "    grad_X=convolution(Gaussian,sobel_X)\n",
    "    grad_X=cv2.GaussianBlur(grad_X,(3,3),1.4)\n",
    "    grad_Y=convolution(Gaussian,sobel_Y)\n",
    "    grad_Y=cv2.GaussianBlur(grad_Y,(3,3),1.4)\n",
    "    grad_XX=np.square(grad_X)\n",
    "    grad_YY=np.square(grad_Y)\n",
    "    grad_XY=np.multiply(grad_X,grad_Y)\n",
    "    \n",
    "    max_R=0\n",
    "    mat={}\n",
    "    for row in range(1,I.shape[0]-1):\n",
    "        for clm in range(1,I.shape[1]-1):\n",
    "            \n",
    "            Window_XX=np.sum(grad_XX[row-1:row+2,clm-1:clm+2])\n",
    "            Window_XY=np.sum(grad_XY[row-1:row+2,clm-1:clm+2])\n",
    "            Window_YY=np.sum(grad_YY[row-1:row+2,clm-1:clm+2])\n",
    "            \n",
    "            M=np.array([[Window_XX,Window_XY],[Window_XY,Window_YY]])\n",
    "            \n",
    "            R=np.linalg.det(M)-alpha*(np.trace(M))**2\n",
    "                        \n",
    "            mat[(row,clm)]=R\n",
    "            \n",
    "            if R>max_R:\n",
    "                max_R=R\n",
    "    \n",
    "    mat_copy=mat.copy()\n",
    "    print(max_R)\n",
    "    for k,v in mat_copy.items():\n",
    "        \n",
    "        if not v>max_R*0.05:\n",
    "            del mat[k]\n",
    "    \n",
    "    points=[]\n",
    "    for k in mat.keys():\n",
    "        max_R=0\n",
    "        for i in range(k[0]-1,k[0]+3):\n",
    "            for j in range(k[1]-1,k[1]+3):\n",
    "                \n",
    "                if (i,j) in mat.keys():\n",
    "                    \n",
    "                    if mat[(i,j)]>max_R:\n",
    "                        pt=(i,j)\n",
    "                        max_R=mat[(i,j)]\n",
    "        if pt not in points:                \n",
    "            points.append(pt)\n",
    "    \n",
    "    for val in points:\n",
    "        I=cv2.circle(I,(val[1],val[0]),1,(255,0,0))\n",
    "    \n",
    "#     for val in mat.keys():\n",
    "#         I=cv2.circle(I,(val[1],val[0]),1,(255,0,0))\n",
    "    \n",
    "    image_try=Image.fromarray(I)\n",
    "    image_try.show()\n",
    "    \n",
    "    return mat,grad_X,grad_Y"
   ]
  },
  {
   "cell_type": "code",
   "execution_count": 7,
   "metadata": {},
   "outputs": [
    {
     "name": "stdout",
     "output_type": "stream",
     "text": [
      "255458121849.48303\n"
     ]
    }
   ],
   "source": [
    "I,x,y=harris_detector(img_arr)"
   ]
  },
  {
   "cell_type": "code",
   "execution_count": 12,
   "metadata": {},
   "outputs": [],
   "source": [
    "import matplotlib.pyplot as plt"
   ]
  },
  {
   "cell_type": "code",
   "execution_count": 21,
   "metadata": {},
   "outputs": [],
   "source": [
    "image_try=Image.fromarray(y)\n",
    "image_try.show()"
   ]
  },
  {
   "cell_type": "code",
   "execution_count": 22,
   "metadata": {},
   "outputs": [],
   "source": [
    "image_try=Image.fromarray(x)\n",
    "image_try.show()"
   ]
  },
  {
   "cell_type": "code",
   "execution_count": 38,
   "metadata": {},
   "outputs": [
    {
     "data": {
      "text/plain": [
       "array([], shape=(0, 2), dtype=float64)"
      ]
     },
     "execution_count": 38,
     "metadata": {},
     "output_type": "execute_result"
    }
   ],
   "source": [
    "x[-1:3,1:3]"
   ]
  },
  {
   "cell_type": "code",
   "execution_count": 59,
   "metadata": {},
   "outputs": [],
   "source": [
    "image=Image.fromarray(cv2.circle(img_arr,(0,2000),40,(255,0,0),-1))\n",
    "image.show()"
   ]
  },
  {
   "cell_type": "code",
   "execution_count": null,
   "metadata": {},
   "outputs": [],
   "source": []
  }
 ],
 "metadata": {
  "kernelspec": {
   "display_name": "Python 3",
   "language": "python",
   "name": "python3"
  },
  "language_info": {
   "codemirror_mode": {
    "name": "ipython",
    "version": 3
   },
   "file_extension": ".py",
   "mimetype": "text/x-python",
   "name": "python",
   "nbconvert_exporter": "python",
   "pygments_lexer": "ipython3",
   "version": "3.8.5"
  }
 },
 "nbformat": 4,
 "nbformat_minor": 4
}
